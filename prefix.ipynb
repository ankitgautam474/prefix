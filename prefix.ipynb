{
 "cells": [
  {
   "cell_type": "code",
   "execution_count": 1,
   "id": "4152122f",
   "metadata": {},
   "outputs": [
    {
     "data": {
      "text/plain": [
       "'-+ab*cd'"
      ]
     },
     "execution_count": 1,
     "metadata": {},
     "output_type": "execute_result"
    }
   ],
   "source": [
    "def postfix_to_prefix(postfix_expression):\n",
    "    stack = []\n",
    "    operators = set(['+', '-', '*', '/', '^'])\n",
    "    \n",
    "    for symbol in postfix_expression:\n",
    "        if symbol not in operators:\n",
    "            stack.append(symbol)\n",
    "        else:\n",
    "            operand2 = stack.pop()\n",
    "            operand1 = stack.pop()\n",
    "            prefix_expression = symbol + operand1 + operand2\n",
    "            stack.append(prefix_expression)\n",
    "    \n",
    "    # The final item in the stack will be the prefix expression\n",
    "    return stack[0]\n",
    "\n",
    "# Example usage:\n",
    "postfix_expr = \"ab+cd*-\"\n",
    "prefix_expr = postfix_to_prefix(postfix_expr)\n",
    "prefix_expr\n"
   ]
  },
  {
   "cell_type": "code",
   "execution_count": null,
   "id": "4c5cb0a8",
   "metadata": {},
   "outputs": [],
   "source": []
  }
 ],
 "metadata": {
  "kernelspec": {
   "display_name": "Python 3 (ipykernel)",
   "language": "python",
   "name": "python3"
  },
  "language_info": {
   "codemirror_mode": {
    "name": "ipython",
    "version": 3
   },
   "file_extension": ".py",
   "mimetype": "text/x-python",
   "name": "python",
   "nbconvert_exporter": "python",
   "pygments_lexer": "ipython3",
   "version": "3.11.4"
  }
 },
 "nbformat": 4,
 "nbformat_minor": 5
}
